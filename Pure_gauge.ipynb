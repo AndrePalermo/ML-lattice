{
  "nbformat": 4,
  "nbformat_minor": 0,
  "metadata": {
    "colab": {
      "name": "Pure_gauge.ipynb",
      "provenance": [],
      "collapsed_sections": [],
      "authorship_tag": "ABX9TyNsnVcxf+M2AVKJICHl1zIq",
      "include_colab_link": true
    },
    "kernelspec": {
      "name": "python3",
      "display_name": "Python 3"
    },
    "language_info": {
      "name": "python"
    },
    "accelerator": "GPU"
  },
  "cells": [
    {
      "cell_type": "markdown",
      "metadata": {
        "id": "view-in-github",
        "colab_type": "text"
      },
    },
    {
      "cell_type": "code",
      "metadata": {
        "id": "XCwIxAgplLj0"
      },
      "source": [
        "import numpy as np\n",
        "import tensorflow as tf\n",
        "import os\n",
        "import sys\n",
        "import time\n",
        "import matplotlib.pyplot as plt\n",
        "from sklearn.model_selection import train_test_split\n",
        "\n",
        "#target_dir = where the folders of the configurations are stored\n",
        "target_dir = './LatticeLearning'\n",
        "\n",
        "#Lattice_size is the spatial dimension of the lattices\n",
        "Lattice_size = 8\n",
        "\n",
        "#path = the various folders containing the configurations. The folders are named \"latout_b#\" where # is beta\n",
        "path = []\n",
        "for a in os.listdir(target_dir):\n",
        "\tif os.path.isdir(target_dir +'/'+ a):\n",
        "\t\tpath.append(a)\n",
        "\n",
        "#number_T = the number of different temperature explored\n",
        "number_T = len(path)\n",
        "\n",
        "#this snippet sorts the path vector by name (i.e. by increasing beta)\n",
        "def sort_name(a):\n",
        "\treturn np.frombuffer(a.encode(), \"uint8\").sum()\n",
        "\n",
        "path.sort(key=sort_name)\n",
        "\n",
        "# filenames = the names of the files in each directory. They are the same in all directories so that I use only the path[0] directory\n",
        "filenames=[]\n",
        "filenames = os.listdir(target_dir +'/'+ path[0]) \n",
        "number_conf = len(filenames)\n",
        "np.random.shuffle(filenames) #così lo alleno su file a caso\n",
        "\n",
        "#list of beta values\n",
        "beta = np.array([])\n",
        "for i in range( number_T ):\n",
        "\tbeta = np.append( beta, int(path[i][8:]) )\n"
      ],
      "execution_count": 2,
      "outputs": []
    },
    {
      "cell_type": "code",
      "metadata": {
        "id": "bjjewcUvlRh3"
      },
      "source": [
        "#Load the Polyakov loop configurations in a vector\n",
        "super_lattice = np.ones((number_T*number_conf,Lattice_size**3),dtype = complex)\n",
        "for i in range(number_T):\n",
        "  for j in range(number_conf):\n",
        "    Re_ploop_train = np.loadtxt(target_dir +'/'+path[i]+\"/\"+filenames[j], usecols=3)\n",
        "    Im_ploop_train = np.loadtxt(target_dir +'/'+path[i]+\"/\"+filenames[j], usecols=4)\n",
        "    super_lattice[i*number_conf+j] = Re_ploop_train+1j*Im_ploop_train\n",
        "\n",
        "#The configurations have been loaded, super_lattice is reshaped in its lattice form. y contains the beta at which each configuration has been obtained\n",
        "y = np.repeat(beta,number_conf)\n",
        "super_lattice = np.reshape(super_lattice,(number_conf*number_T,Lattice_size,Lattice_size,Lattice_size))"
      ],
      "execution_count": 3,
      "outputs": []
    },
    {
      "cell_type": "code",
      "metadata": {
        "id": "EoreKNwmlmGi"
      },
      "source": [
        "#samples selection and preprocessing\n",
        "train_frac = 0.6\n",
        "#!!!!!!!!!!!!!!!!!!!!!!!!!!!!!!!!!uncomment the pdesidered preprocessing!!!!!!!!!!!!!!!!!!!!!!!!!!!!!!!!!!!!!!!!!!!!!!!!!!!!!!!!!!!!!!!\n",
        "#no preprocessing\n",
        "train_set, validation_set, y_train, y_val = train_test_split(super_lattice,y, train_size=train_frac)\n",
        "\n",
        "# #fluctuations\n",
        "# no_mean = super_lattice-(np.ones(shape=super_lattice.shape).T*super_lattice.mean(axis=(1,2,3))).T\n",
        "# std_dev = np.sqrt(np.mean(np.abs(super_lattice-(np.ones(shape=super_lattice.shape).T*super_lattice.mean(axis=(1,2,3))).T)**2,axis=(1,2,3)))\n",
        "# super_fluctuations = (no_mean.T*std_dev).T\n",
        "# train_set, validation_set, y_train, y_val = train_test_split(super_fluctuations,y, train_size=0.6)\n",
        "#!!!!!!!!!!!!!!!!!!!!!!!!!!!!!!!!!!!!!!!!!!!!!!!!!!!!!!!!!!!!!!!!!!!!!!!!!!!!!!!!!!!!!!!!!!!!!!!!!!!!!!!!!!!!!!!!!!!!!!!!!!!!!!!!!!!!!!!!!!!!!!!!!!!!!!!\n",
        "\n",
        "train_conf = int(train_frac*number_conf)\n",
        "#labeled configurations for the semisupervised problem\n",
        "N = np.int(0.3*train_conf) #N=number of labeled configurations\n",
        "labeled_conf = np.ones((2*N,Lattice_size,Lattice_size,Lattice_size),dtype=complex)\n",
        "\n",
        "for i in range(N):\n",
        "  labeled_conf[i] = train_set[y_train==np.min(y_train)][i]\n",
        "  labeled_conf[-i-1] = train_set[y_train==np.max(y_train)][-i-1]\n",
        "\n",
        "#unphysical labels in the latent space\n",
        "conv_labels = np.repeat([0,1],N) \n",
        "conv_labels = np.reshape(conv_labels,(2*N,1))\n",
        "\n",
        "#building channels for the convolutional neural network\n",
        "Re_train = np.real(train_set)\n",
        "Im_train = np.imag(train_set)\n",
        "Re_Im_lattice_train = np.stack( (Re_train,Im_train), axis=4)\n",
        "\n",
        "Re_val = np.real(validation_set)\n",
        "Im_val = np.imag(validation_set)\n",
        "Re_Im_lattice_val = np.stack( (Re_val,Im_val), axis=4)\n",
        "\n",
        "Re_labeled = np.real(labeled_conf)\n",
        "Im_labeled = np.imag(labeled_conf)\n",
        "Re_Im_labeled = np.stack( (Re_labeled,Im_labeled), axis=4)\n",
        "\n",
        "#Normalizing the data by multiplying for a constant \n",
        "norm = 1/np.amax([np.amax(np.abs(Re_Im_lattice_val)),np.amax(np.abs(Re_Im_lattice_train))])\n",
        "\n",
        "Re_Im_lattice_train *= norm\n",
        "Re_Im_lattice_val *= norm \n",
        "Re_Im_labeled *= norm"
      ],
      "execution_count": 30,
      "outputs": []
    },
    {
      "cell_type": "markdown",
      "metadata": {
        "id": "a9VGE8VLo_6P"
      },
      "source": [
        "#Semisupervised classification"
      ]
    },
    {
      "cell_type": "code",
      "metadata": {
        "colab": {
          "base_uri": "https://localhost:8080/"
        },
        "id": "h7q5rs7Zl1o5",
        "outputId": "c64ca390-ffda-446a-9eab-3a4f58046382"
      },
      "source": [
        "conv_encoder = tf.keras.Sequential()\n",
        "conv_encoder.add( tf.keras.layers.Conv3D(32,(3,3,3),input_shape=(8,8,8,2), activation='relu',padding='same') ) #th\n",
        "conv_encoder.add(tf.keras.layers.MaxPooling3D((2,2,2)) )\n",
        "conv_encoder.add( tf.keras.layers.Conv3D(32,(3,3,3), activation='relu',padding='same') ) #th\n",
        "conv_encoder.add(tf.keras.layers.MaxPooling3D((2,2,2)) )\n",
        "conv_encoder.add( tf.keras.layers.Conv3D(32,(3,3,3), activation='relu',kernel_initializer=tf.keras.initializers.RandomUniform,padding='same') ) #relu\n",
        "conv_encoder.add( tf.keras.layers.Flatten() )\n",
        "# conv_encoder.add( tf.keras.layers.Dense(12,activation='swish') ) #relu\n",
        "conv_encoder.add( tf.keras.layers.Dense(1,activation='relu',kernel_initializer=tf.keras.initializers.RandomUniform(0,0.1)) ) #linear \n",
        "\n",
        "conv_decoder = tf.keras.Sequential()\n",
        "conv_decoder.add( tf.keras.layers.Dense(8*4, activation='relu',kernel_initializer=tf.keras.initializers.RandomUniform(-0.1,0.2),input_shape=np.shape(conv_encoder(Re_Im_lattice_train))[1:]) ) #relu\n",
        "conv_decoder.add( tf.keras.layers.Reshape((2,2,2,4)) )\n",
        "conv_decoder.add(tf.keras.layers.Conv3DTranspose(32,(3,3,3),padding='same',activation='tanh'))\n",
        "conv_decoder.add(tf.keras.layers.UpSampling3D((2,2,2)))\n",
        "conv_decoder.add(tf.keras.layers.Conv3DTranspose(48,(3,3,3),activation='relu',padding='same')) #relu\n",
        "conv_decoder.add(tf.keras.layers.UpSampling3D((2,2,2)))\n",
        "conv_decoder.add(tf.keras.layers.Conv3DTranspose(64,(3,3,3),activation='relu',padding='same')) #relu\n",
        "# conv_decoder.add(tf.keras.layers.UpSampling3D((2,2,2)))\n",
        "conv_decoder.add(tf.keras.layers.Conv3DTranspose(2,(3,3,3),activation='linear',padding='same')) #linear\n",
        "\n",
        "@tf.function \n",
        "def corr (X_labeled, y_label):\n",
        "  #correction for the labeled configurations in the latent space\n",
        "  metric = tf.keras.losses.MeanSquaredError(reduction='sum_over_batch_size')\n",
        "  return metric(conv_encoder(X_labeled),y_label)\n",
        "\n",
        "\n",
        "@tf.function \n",
        "def loss_all (X_labeled, y_labeled, X_all):\n",
        "  #Total loss: autoencoder part + correction in the latent space\n",
        "  metric = tf.keras.losses.MeanSquaredError(reduction='sum_over_batch_size')\n",
        "  return metric(conv_decoder(conv_encoder(X_all)),X_all) + 10*corr(X_labeled,y_labeled)\n",
        "  \n",
        "@tf.function \n",
        "def val_loss (X_all):\n",
        "  #loss of the autoencoder: how good the input is reproduced by the NN\n",
        "  metric = tf.keras.losses.MeanSquaredError(reduction='sum_over_batch_size')\n",
        "  return metric(conv_decoder(conv_encoder(X_all)),X_all)\n",
        "  \n",
        "\n",
        "optimizer = tf.optimizers.Adam(0.0005)\n",
        "\n",
        "\n",
        "@tf.function\n",
        "def train(X_labeled, y_label, X_all):\n",
        "  #training function\n",
        "  with tf.GradientTape() as gt: \n",
        "    gt.watch ( conv_encoder.variables + conv_decoder.variables )\n",
        "    loss_ = loss_all(X_labeled,y_label,X_all)\n",
        "    grads = gt.gradient (loss_, conv_encoder.variables + conv_decoder.variables)\n",
        "    optimizer.apply_gradients (zip(grads, conv_encoder.variables + conv_decoder.variables))\n",
        "    return loss_\n",
        "\n",
        "\n",
        "conv_encoder.summary()\n",
        "conv_decoder.summary()"
      ],
      "execution_count": 31,
      "outputs": [
        {
          "output_type": "stream",
          "text": [
            "Model: \"sequential_12\"\n",
            "_________________________________________________________________\n",
            "Layer (type)                 Output Shape              Param #   \n",
            "=================================================================\n",
            "conv3d_18 (Conv3D)           (None, 8, 8, 8, 32)       1760      \n",
            "_________________________________________________________________\n",
            "max_pooling3d_12 (MaxPooling (None, 4, 4, 4, 32)       0         \n",
            "_________________________________________________________________\n",
            "conv3d_19 (Conv3D)           (None, 4, 4, 4, 32)       27680     \n",
            "_________________________________________________________________\n",
            "max_pooling3d_13 (MaxPooling (None, 2, 2, 2, 32)       0         \n",
            "_________________________________________________________________\n",
            "conv3d_20 (Conv3D)           (None, 2, 2, 2, 32)       27680     \n",
            "_________________________________________________________________\n",
            "flatten_6 (Flatten)          (None, 256)               0         \n",
            "_________________________________________________________________\n",
            "dense_17 (Dense)             (None, 1)                 257       \n",
            "=================================================================\n",
            "Total params: 57,377\n",
            "Trainable params: 57,377\n",
            "Non-trainable params: 0\n",
            "_________________________________________________________________\n",
            "Model: \"sequential_13\"\n",
            "_________________________________________________________________\n",
            "Layer (type)                 Output Shape              Param #   \n",
            "=================================================================\n",
            "dense_18 (Dense)             (None, 32)                64        \n",
            "_________________________________________________________________\n",
            "reshape_6 (Reshape)          (None, 2, 2, 2, 4)        0         \n",
            "_________________________________________________________________\n",
            "conv3d_transpose_24 (Conv3DT (None, 2, 2, 2, 32)       3488      \n",
            "_________________________________________________________________\n",
            "up_sampling3d_12 (UpSampling (None, 4, 4, 4, 32)       0         \n",
            "_________________________________________________________________\n",
            "conv3d_transpose_25 (Conv3DT (None, 4, 4, 4, 48)       41520     \n",
            "_________________________________________________________________\n",
            "up_sampling3d_13 (UpSampling (None, 8, 8, 8, 48)       0         \n",
            "_________________________________________________________________\n",
            "conv3d_transpose_26 (Conv3DT (None, 8, 8, 8, 64)       83008     \n",
            "_________________________________________________________________\n",
            "conv3d_transpose_27 (Conv3DT (None, 8, 8, 8, 2)        3458      \n",
            "=================================================================\n",
            "Total params: 131,538\n",
            "Trainable params: 131,538\n",
            "Non-trainable params: 0\n",
            "_________________________________________________________________\n"
          ],
          "name": "stdout"
        }
      ]
    },
    {
      "cell_type": "code",
      "metadata": {
        "colab": {
          "base_uri": "https://localhost:8080/"
        },
        "id": "ZnBMQtL7mj5D",
        "outputId": "57d31cdf-aedb-414b-9d6d-9a9aa1af1720"
      },
      "source": [
        "print(\"loss_val = \",val_loss(tf.constant(Re_Im_lattice_val, dtype=tf.float32)).numpy(),\"\\n\",\n",
        "      \"loss_train = \",val_loss(tf.constant(Re_Im_lattice_train, dtype=tf.float32)).numpy(),\"\\n\",\n",
        "      \"correction = \",corr(tf.constant(Re_Im_labeled, dtype=tf.float32),tf.constant(conv_labels, dtype=tf.float32)).numpy())"
      ],
      "execution_count": 32,
      "outputs": [
        {
          "output_type": "stream",
          "text": [
            "loss_val =  0.14921175 \n",
            " loss_train =  0.1769128 \n",
            " correction =  0.2953138\n"
          ],
          "name": "stdout"
        }
      ]
    },
    {
      "cell_type": "code",
      "metadata": {
        "colab": {
          "base_uri": "https://localhost:8080/",
          "height": 796
        },
        "id": "T9fZoMi6mnKK",
        "outputId": "7629b909-3f28-48c2-b18c-88745e51b838"
      },
      "source": [
        "loss_tot = []\n",
        "autoloss_validation=[]\n",
        "autoloss_train = []\n",
        "\n",
        "X = tf.constant(Re_Im_lattice_train, dtype=tf.float32)\n",
        "X_val = tf.constant(Re_Im_lattice_val, dtype=tf.float32)\n",
        "X_labeled = tf.constant(Re_Im_labeled, dtype=tf.float32)\n",
        "y_label = tf.constant(conv_labels, dtype=tf.float32)\n",
        "\n",
        "epoch = 300\n",
        "\n",
        "for i in range(epoch):\n",
        "  #training and saving the various losses\n",
        "  loss_tot.append ( train(X_labeled,y_label,X) )\n",
        "  autoloss_validation.append( val_loss(X_val) )\n",
        "  autoloss_train.append(val_loss(X) )\n",
        "  #the following snippet prints the progress of the training \n",
        "  row = \"[\"+\"=\"*np.int(100/epoch *(i+1)) + \">\"+\".\"*(np.int(100-100/epoch *(i+1)))+\"]\"\n",
        "  sys.stdout.write(\"\\r %d%% %s \" %( 100/epoch *(i + 1),row))\n",
        "  sys.stdout.flush()\n",
        "  time.sleep(0.1)\n",
        "\n",
        "sys.stdout.write(\"\\n\")\n",
        "\n",
        "#plot the total loss alone\n",
        "plt.plot ( loss_tot, 'g' ) \n",
        "# plt.savefig('losstot_C_semisup.pdf')\n",
        "\n",
        "#plot the total loss along with training and validation losses for the autoencoder\n",
        "plt.subplots()\n",
        "plt.plot ( loss_tot, 'g' )\n",
        "plt.plot(autoloss_validation,'r')\n",
        "plt.plot(autoloss_train,'b')\n",
        "# plt.savefig('loss_C_semisup.pdf')\n",
        "\n",
        "#plot the training and validation losses for the autoencoder\n",
        "plt.subplots()\n",
        "plt.plot(autoloss_validation,'r')\n",
        "plt.plot(autoloss_train,'b')\n",
        "print(\"Total loss=\",loss_tot[-1].numpy(),'autoencoder loss: train=',autoloss_train[-1].numpy(),' autoencoder loss: validation=',autoloss_validation[-1].numpy())"
      ],
      "execution_count": 33,
      "outputs": [
        {
          "output_type": "stream",
          "text": [
            " 100% [====================================================================================================>] \n",
            "Total loss= 0.16872647 autoencoder loss: train= 0.11235131  autoencoder loss: validation= 0.12091768\n"
          ],
          "name": "stdout"
        },
        {
          "output_type": "display_data",
          "data": {
            "image/png": "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\n",
            "text/plain": [
              "<Figure size 432x288 with 1 Axes>"
            ]
          },
          "metadata": {
            "tags": [],
            "needs_background": "light"
          }
        },
        {
          "output_type": "display_data",
          "data": {
            "image/png": "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\n",
            "text/plain": [
              "<Figure size 432x288 with 1 Axes>"
            ]
          },
          "metadata": {
            "tags": [],
            "needs_background": "light"
          }
        },
        {
          "output_type": "display_data",
          "data": {
            "image/png": "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\n",
            "text/plain": [
              "<Figure size 432x288 with 1 Axes>"
            ]
          },
          "metadata": {
            "tags": [],
            "needs_background": "light"
          }
        }
      ]
    },
    {
      "cell_type": "code",
      "metadata": {
        "colab": {
          "base_uri": "https://localhost:8080/",
          "height": 558
        },
        "id": "1Iq_wi5YnE87",
        "outputId": "ba3d81c2-5556-4495-c3c4-95bff33c66ad"
      },
      "source": [
        "conv_encoded_train = conv_encoder(Re_Im_lattice_train)\n",
        "conv_encoded_val = conv_encoder(Re_Im_lattice_val)\n",
        "\n",
        "plt.plot(y_train[y_train<=5],conv_encoded_train[y_train<=5],'ro',label='Phase 1')\n",
        "plt.plot(y_train[y_train>5],conv_encoded_train[y_train>5],'bo',label='Phase 2')\n",
        "plt.xlabel('β')\n",
        "plt.ylabel(r'Encoded',size=15)\n",
        "plt.legend()\n",
        "# plt.savefig('semisupervised_T_convfluct.pdf')\n",
        "\n",
        "\n",
        "plt.subplots()\n",
        "plt.plot(y_val[y_val<=5],conv_encoded_val[y_val<=5],'go',label='Phase 1')\n",
        "plt.plot(y_val[y_val>5],conv_encoded_val[y_val>5],'yo',label='Phase 2')\n",
        "plt.xlabel('β')\n",
        "plt.ylabel(r'Encoded',size=15)\n",
        "plt.legend()\n",
        "# plt.savefig('semisupervised_V_convfluct.pdf')"
      ],
      "execution_count": 34,
      "outputs": [
        {
          "output_type": "execute_result",
          "data": {
            "text/plain": [
              "<matplotlib.legend.Legend at 0x7f379c500150>"
            ]
          },
          "metadata": {
            "tags": []
          },
          "execution_count": 34
        },
        {
          "output_type": "display_data",
          "data": {
            "image/png": "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\n",
            "text/plain": [
              "<Figure size 432x288 with 1 Axes>"
            ]
          },
          "metadata": {
            "tags": [],
            "needs_background": "light"
          }
        },
        {
          "output_type": "display_data",
          "data": {
            "image/png": "iVBORw0KGgoAAAANSUhEUgAAAYcAAAEGCAYAAACO8lkDAAAABHNCSVQICAgIfAhkiAAAAAlwSFlzAAALEgAACxIB0t1+/AAAADh0RVh0U29mdHdhcmUAbWF0cGxvdGxpYiB2ZXJzaW9uMy4yLjIsIGh0dHA6Ly9tYXRwbG90bGliLm9yZy+WH4yJAAAgAElEQVR4nO3de5hU9Z3n8fe3G2guGlyxbYUWmt4BBEEIthJidIlk4iUzutHoSkhWFNPZjM6aNXE3CTMmIdvJZLNJdPIYTauJl6cnxlzGkInGOEQmEx90gfEKyCUtyCW0pI2MirTdzXf/ONVY3VWnuw5VdU5V9ef1PDz0+Z3Tp76naepb5/c7v+/P3B0REZF0VUkHICIipUfJQUREMig5iIhIBiUHERHJoOQgIiIZRiQdQCGccMIJ3tDQkHQYIiJlZcOGDX9099ps+yoiOTQ0NLB+/fqkwxARKStmtjNsn7qVREQkg5KDiIhkUHIQEZEMFTHmkE13dze7d+/m0KFDSYdS0kaPHk19fT0jR45MOhQRKSEVmxx2797NscceS0NDA2aWdDglyd3p7Oxk9+7dTJ06NelwRKSEVGy30qFDh5gwYYISwyDMjAkTJujuSqQMdXS0sXZtA2vWVLF2bQMdHW0FPX/F3jkASgw50M9IJH/PPPMBXntt9ZHt445bzLx5/1y01+voaGPz5quBbgC6unamtqGubmlBXqNi7xxEROIwMDEAvPbaap555gNFe82tW2+gLzG8ozvVXhhKDkVUXV3NvHnzmD17NpdffjkHDx5kx44dzJ49O7YYrrnmGk488cRYX1NkOBmYGIZqL4Te3s5I7UdDySGl7fk2Gm5poOrLVTTc0kDb8/n3340ZM4ZnnnmGF154gVGjRnHHHXcUINJoli1bxq9+9avYX1dEypuSA0FiaP5FMzsP7MRxdh7YSfMvmguSIPqcc845bN++HYDe3l4+8YlPcNppp/HBD36Qt956C4A777yTM888k7lz53LZZZdx8OBBAH784x8ze/Zs5s6dy7nnnnvkHDfddBNnnnkmp59+Ot/73veyvu65557L8ccfX7DrEJHkjRgxIVL70VByAFasXsHB7oP92g52H2TF6hUFOX9PTw+PPPIIc+bMAWDbtm1cd911bNy4keOOO46f/vSnAFx66aWsW7eOZ599lpkzZ3L33XcDsHLlSh599FGeffZZVq1aBcDdd9/N+PHjWbduHevWrePOO+/kpZdeKki8IpK7445bHKm9EE488YpI7UdDyQF4+cDLkdpz9dZbbzFv3jyampqYPHkyy5cvB2Dq1KnMmzcPgDPOOIMdO3YA8MILL3DOOecwZ84c2tra2LhxIwBnn302y5Yt484776S3txeAX//619x3333MmzePBQsW0NnZybZt2/KKV0SimzfvnzMSQbGfVursfDhS+9Go6EdZczV5/GR2HsgsTjh5/OS8zts35jBQTU3Nka+rq6uPdCstW7aMhx56iLlz53LPPfewZs0aAO644w6eeuopfvnLX3LGGWewYcMG3J3vfOc7nH/++XnFKCL5K2YiyKarK/sH17D2o6E7B6BlcQtjR47t1zZ25FhaFrfEGsfrr7/OySefTHd3N21t74x3/P73v2fBggWsXLmS2tpadu3axfnnn8/tt99Od3fwONvWrVt58803Y41XCqfYE5qkstTUZP/gGtZ+NJQcgKVzltL6l61MGT8Fw5gyfgqtf9nK0jmFmUySq6985SssWLCAs88+m1NPPfVI+0033cScOXOYPXs2733ve5k7dy7XXnsts2bNYv78+cyePZtPfvKT9PT0ZJxzyZIlLFy4kC1btlBfX39kHENKR0dHG1u2NNPVtRNwurp2smVLsxKEhGpsbKGqqv8H2qqqsTQ2Fu4Drbl7wU6WlKamJh+42M/mzZuZOXNmQhGVF/2skrV2bUMqMfRXUzOFhQt3xB+QlIWOjjba21fQ1fUyNTWTaWxsiTw72sw2uHtTtn0acxBJWLbEMFi7CARlMgpVKiMbdSuJJC7sv6H+e0py9NsnkrjDEdtFik/JQUREMsSaHMzs+2b2ipm9ELLfzOzvzWy7mT1nZvPjjE8kCdXV2UsehLWLxCHuO4d7gAsG2X8hMC31pxm4PYaYRBI1ffqtwMBlWkem2qUcVOI8lViTg7v/Fnh1kEMuAe7zwJPAcWZ2cjzRFV7SJbt37drF+9//fmbNmsVpp53GrbfqzaYU1dUtZebMH1BTMwUwamqmMHPmD4r6JIoUTqXOUym1MYdJwK607d2ptqIrRuZPumT3iBEj+OY3v8mmTZt48sknue2229i0aVOsMUhu6uqWsnDhDhYtOszChTuUGMpIe/sKDh/uX7jz8OGDtLcXpnBnmGLfrZRacsiZmTWb2XozW79///68zhVH5k+iZPfJJ5/M/PnBsM2xxx7LzJkz2bNnT8GuSUTiqXM0UBzvWaWWHPYAp6Rt16faMrh7q7s3uXtTbW1tXi9a7MxfCiW7d+zYwdNPP82CBQsKck0iEhgxIvt6KWHthRDH3UqpJYdVwH9NPbX0HuCAu/+h2C9arMxfKiW733jjDS677DJuueUW3vWud+V1TSLSX2/voUjthRDH3Uqs5TPM7IfAIuAEM9sNfJHUYxrufgfwMHARsB04CFwdR1w1NZNDatuUf8nu7u5uLrvsMpYuXcqll16a1/WISCb37NWQw9oLYcSI4+npyVwvupB3K7EmB3dfMsR+B66LKZwjGhtb2LKlud9tWqErHOZiYMnuSZOCsfi+kt0LFizgkUce6Vey+7zzzmPkyJFs3bqVSZMmMW7cuCPnc3eWL1/OzJkzufHGG2O9FhEpnrB6qYWso6rCe3DkyZB8Kxzmq69kd21tLQsWLOD1118HgpLd27Ztw91ZvHgxc+fO5fTTT2fHjh3Mnz8fd6e2tpaHHnqo3/meeOIJ7r//fubMmXOkG+urX/0qF110UazXJVLJzMZlvUswG5fl6MLo7c28axis/WioZLfoZyWSh9/97oSQLp4JvO99fyzKa65ZY6H7Fi3K/T19sJLdpTYgLSJSVrIlhsHay4WSg4hIXiqz5Hp5Rz+ESugyKzb9jEpDJdbmGT4qs+R6xSaH0aNH09nZqTe/Qbg7nZ2djB49OulQhrVKrc0jxVQdsT26in1aqb6+nt27d5NvaY1KN3r0aOrr65MOY1gbbLaraiyVAwOyfQgNHzTOX2/E9ugqNjmMHDmSqVOnJh2GyJCSqM0jhRTWO1G8XouamikhE3enFOw1KrZbSaRchM3Ez3eGvsQj7A25kG/UAzU2tlBVNbZfW6En7io5iCQs+A+dudhP3DP05egk8e9XV7eUGTNa+60BMmNGa0G7ISu2W0mknJhZv9IHZsXsr5ZCS+Lfr65uaVHHpHTnIJKw9vYVuL/dr8397aIvFiOFUan/fkoOIgnLNrA4WLuUlkp9oEDJQSRxxX9mXYqnUh8oUHIQSVzxn1mX4onjyaEkKDmIJGzEiAmR2qW0xPHkUBL0tJJIwuJYuEWKq9hPDiVBdw4iCevtfTVSu0gclBxEElapA5pS3pQcRBJWqQOaUt6UHEQSVle3lJNOuop3Hl2t5qSTrqq4PmwpL0oOIgnr6Ghj3757eefR1V727btX6zlIopQcRBI22HoOIklRcigjWkqyMlVq+QUpb0oOZUJLSVYuPa0kpUjJoUyo66Fy6WklKUVKDmVCXQ+Vq1LLL0h5U/mMMlFTMzlkzVh1PVSCSiy/IOUt9jsHM7vAzLaY2XYz+1yW/ZPN7HEze9rMnjOzi+KOsRSp60FE4hRrcjCzauA24EJgFrDEzGYNOOxvgAfd/d3AlcB344yxVKnrQUTiFHe30lnAdndvBzCzB4BLgE1pxzjwrtTX44G9sUZYwtT1ICJxibtbaRKwK217d6ot3ZeAj5nZbuBh4K+zncjMms1svZmt379/fzFiFREZtkrxaaUlwD3uXg9cBNxvZhlxunuruze5e1NtbW3sQYqIVLK4k8Me4JS07fpUW7rlwIMA7r4WGA2cEEt0IiICxJ8c1gHTzGyqmY0iGHBeNeCYl4HFAGY2kyA5qN8Ilc8QkfjEOiDt7j1mdj3wKEF94u+7+0YzWwmsd/dVwGeAO83sfxAMTi9z14KJfeUz+mZJ95XPADRILSIFZ5XwvtvU1OTr169POoyiWru2IWQS3BQWLtwRf0AiUvbMbIO7N2XbV4oD0pKFymeISJxUPqNEdXS00d6+gq6ul6mpmUx19fH09nZmHKfyGSJSDEoOJaijo40XX7wG97cBUt1J2W/yJkxQdRERKTx1K5WgbdtuOJIY3nE467GdnQ8XPyARGXaUHEpQT09m91EYjTmISDEoOZQ5jTmISDEoOZSg6uoJOR2nkt0iUixKDiVo+vRbgZEDWkcyceKnVLJbRGKhp5VKUF3dUg4ceIK9e1uBXqCaiROvZfp0LW0hIvHQnUMJ6uhoY9++ewkSA0Av+/bdq1pKIhIbJYcS1N6+4kgNpT6HDx+kvX1FQhGJyHCj5FCCVCpDRJI25JiDmf0mygnd/byjD0cgeDw1e5E9PbYqIvHI5c6hc8Cf6cA5wFjgjdTf7wOmAX8sTpjDS2NjC1VVY/u16bFVEYnTkHcO7n5539dmthyYAbzX3V9Oa58M/BPwWDGCHG76Hk9NL7zX2Niix1ZFJDaR1nMws3bgRnd/KMu+S4FvuvvUAsaXk+GwnoOISKEVcj2Hk4CakH2jgBMjnk9EREpQ1OSwBvi6mfXLNGZ2JvB14F8KFJeIiCQoanJoBl4FnjKzvWb2jJntBZ5MtTcXOsBK19HRxtq1DaxZU8XatQ2a6CYiJSFS+Qx33w3MN7OLgDMJupn2AevcXQsLRNTR0caWLc1HJrx1de1ky5Ygv2YbfB64OpwGqUWkWI6qtlIqESgZ5GmwmdAD3/SjJhIRkXxEniFtZjVm9ikzu9vMHjWzaan2/2JmMwsfYuWKMhNaJTVEJE6RkoOZTQe2Al8DGoAPAMemdp8DfL6QwVW6sBnP2dpVUkNE4hT1zuHvgZcJEsP5gKXt+xeCmdKSoygzoaurx2U9R1i7iEg+oo45nANc7u6vmVn1gH0dwMmFCWt4iDITurf3zaznCGsXEclH1ORwCBgTsm8S8Fp+4Qw/dXVLcxxQDpvJnvsMdxGRXEXtVnoM+IKZjU9rczOrAf4aPcEkIlIRoiaHm4BaYDtwP8HH1puB54GJwJCPzpjZBWa2xcy2m9nnQo65wsw2mdlGM/uHiDGKiEieIiUHd98FzAXuIBiU/j3BOMOPgTPcfd9g358ap7gNuBCYBSwxs1kDjplG8NTT2e5+GvDpKDFWqhEjJkRqFxHJR+RJcO7+J+BvU3+iOgvY7u7tAGb2AHAJsCntmE8At6VeB3d/5Shep+KEFc+NUFRXRCRncS8TOgnYlba9O9WWbjow3cyeMLMnzeyC2KIrYb29r0ZqFxHJRy7LhL5EhEdi3L0xr4iCmKYBi4B64LdmNsfd+z0JZWbNpAr9TZ5c+ctnVlcfT29vZ9Z2EZFCy6Vb6af0Tw5XEiwN+hjwCsEaDn8OvAk8MMS59gCnpG3Xp9rS7Qaecvdu4CUz20qQLNalH+TurUArBIv95HAdJSmsmN7AdujK+v1mWZtFRPKSyzKhn+372sy+QDAI/SF3fzOt/RiCZUL/fYjTrQOmmdlUgqRwJfDRAcc8BCwBfmBmJxB0M7UPfSnlJ6yY3oEDT7Bv37392sP09KhbSUQKL+qYw3XAN9ITA4C7vwH839T+UO7eA1wPPApsBh50941mttLMLk4d9ijQaWabgMeBm9w9sz+lAoQV09u7tzWjPUxYfSYRkXxEfVrpXUBdyL6TgGOGOkG2ct/ufnPa1w7cmPpT0cKL5vXm9P1hdZhERPIV9c7hF8A3zOwjZjYKwMxGmdnlBMuE/qLQAVay8E/92QcSzMZRUzMFMGpqpjBjRqvWchCRooh65/Ap4B7gQYKyGa8TlOw2YFVqv+SosbGl35gDBHcDZlX09r6RcXx19WgWLtwRY4QiMlxFXSb0APBhMzuNYJnQOt5ZJnTToN8sGcKqsm7e/LGsx/f0VOTQi4iUoKNdJnQjsLHAsQxL2aqybt58FdnHHQZWSRcRKY7IycHMjgM+SbCwz/HAq8C/Aq0DJ6rJ0QobkM5toFpEJF9Rlwn9jwQVWFcC4whWhRuX2n4utV/yFvbPEne1ExEZrqLeOXybYEGf97j7kZnNZjaJ4PHUbxEU0pMcZZshDYdDjg5rFxEprKjJYRFwVXpiAHD3PWa2EvhBoQIbDsJmSIuIJC1qP4UTPipahdasjCRshrSISNKiJofHga+Y2ZT0xtT2SmB1oQIbDsJnSGdXXT3kBHQRkYKImhw+DdQA21JrLfzczNYC24BRDIOSF4UUPkM67J+lplihiIj0E3WZ0B3AqcB/J5jnMJJgFbfrgZmp/ZKjxsYWqqrG9msLtrMPPGthHxGJy9EsE/o2wRrSdxQ+nOElbIZ0sJ1ZplsVWEUkLpGSg5ktBk5x93uy7FsG7HT3xwsT2vCQbYY0kLXmkiqwikhcoo45tBBesvsE4Kv5hSMQJIwZM1pVgVVEEhO1W+k0YEXIvqeBv80vHOmT7Y4ibElREZFCi3rn0ENQTymbCXnGMix1dLSxdm0Da9ZUsXZtAx0dbaHHbd58dWoswunq2snmzVeHHi8iko+oyeF3wE19C/30SW1/hqAAn+Sob4Z0+hv+li3NWd/wt269Aege0NqdahcRKayo3UorCBLEdjP7EfAH4GTgCmA8sLyw4VW2sBnS7e0rMrqLenuzr+UQ1i4iko+oi/08Z2ZnAl8CPk7QldRJMDP6y+6+teARVrCwGdJRZ06LiBTa0cxz2AIsKUIsFS3bYHJNzeSc5zOMGDEh60pwI0ZoqEdECk8LBMQgbGxhzJg/y3r8hAkXZbSdeOIVWY8NaxcRycfRrAT3EeBSoB4YPXC/u59VgLgqStjYwmuv/Sbr8R0dDzJ9+nf7tXV2Ppz12LB2EZF8RJ0h/SXgZuBZgppKbxchpoqTresokL3CebZBZo1PiEicot45LAf+zt2/UIxgKlc1+a7/PGLE8SFjDmHTTkREjl7UMYdj0ZoNRyG/xADgIcsohbWLiOQjanJ4ALigGIFUsuhPFFlGS1i5bpXxFpFiiNqttBr4upmdADwGvDbwAHfXCOkA0T/dZ35DlMdeRUTyFTU5/Cj1dwNwVZb9g60xDYCZXQDcmjruLnf/u5DjLgN+Apzp7usjxllSon+6z/wRNja2qIy3iMQmarfS1CH+NA72zWZWDdwGXAjMApaY2awsxx0L3AA8FTG+khT9031vRkE+QGW8RSQ2QyYHM/uomR0P4O473T2YyQV7+rZTbd3AUO9UZwHb3b09taLcA8AlWY77CvB14FCEaylZ4cuBZo4tBIwXX7ym36S5F1+8BoCFC3ewaNFhFi7cocQgIkWTy53D/cCRqbypT/8vAacPOO4Ugjf1wUwCdqVt7061HWFm8wlWm/vlYCcys2YzW29m6/fv3z/EyyYrbPGesHkO4AS5M63F32bbNlVgFZF45DLmkO3jbdhH3ryYWRXwLWDZUMe6eyvQCtDU1FTyD3RmW7xn27Ybss5dCBPlWBGRfEQun5GnPQR3GH3qU219jgVmA2vMDOAkYJWZXVzug9LZCu9pjoKIlKq4k8M6YJqZTSVIClcCH+3b6e4HCNaiBsDM1gCfrYTEkP6kUV/hvYH1loZWlBs2EZEMuT6tlO0zbvSn9917gOuBR4HNwIPuvtHMVprZxVHPVy7CCu8N8dRvFrrVEJF45Hrn8KiZ9QxoWz2gLadzpSbJPTyg7eaQYxflGF9JCy+O10tV1diMuQtVVWOyji8EA9oiIsWXyxv6l4seRYULn908hcbGloyxCIAXX7ym3xNLZqM04U1EYjNkcnB3JYc8DTa7OdtTTB0dbfiA0eqB2yIixaSV4GIQNs8hbBJbe/sKgjmF6bpT7SIixRf300rDVrY7hDBa2EdEkqY7hxIUVotJFVhFJC5KDiUorBaTBqRFJC5KDiUo6hiFiEihacyhREUZoxARKTTdOYiISAYlBxERyaDkICIiGZQcREQkg5JDwgauFd3R0ZZ0SCIielopLlu3/hV797YCvUA1Eyc2M3782VnXeQD0pJKIJEp3DjEIEsPtBIkBoJe9e2/nxRc/mXWdB9VQEpGkKTnEILhjyOT+ZtZ21VASkaQpOcSid+hD0qiGkogkTckhFmE/ZlMNJREpSUoOMTAbE9I+VjWURKQk6WmlGLgfDG1XDSURKUW6c4iB1mcQkXKj5BCDxsYWzEb1azMbpbEFESlZSg4xcfdBt0VESomSQwyCSW3dA1q7NdlNREqWkkMMurp2RmoXEUmakkMsqiO2i4gkS8khFmEzpKPNnBYRiUvsycHMLjCzLWa23cw+l2X/jWa2ycyeM7PVZjYl7hgLLZjklnu7iEjSYk0OZlYN3AZcCMwClpjZrAGHPQ00ufvpwE+A/xNnjMXQ2NiiMhkiUlbivnM4C9ju7u3u/jbwAHBJ+gHu/ri/M6X4SaA+5hgLrq5uqcpkiEhZibt8xiRgV9r2bmDBIMcvBx4pakQxUZkMESknJVtbycw+BjQB/ylkfzPQDDB5sspQiIgUUtzdSnuAU9K261Nt/ZjZB4AVwMXu3pXtRO7e6u5N7t5UW1tblGBFRIaruJPDOmCamU21oNjQlcCq9APM7N3A9wgSwysxxyciIsScHNy9B7geeBTYDDzo7hvNbKWZXZw67BvAMcCPzewZM1sVcjoRESmS2Mcc3P1h4OEBbTenff2BuGMSEZH+NENaREQyKDmIiEiGkn2UtdJs3fpX7N3bSlBPqZqJE5uZPv27SYclIpKVkkMMgsRwe1pL75FtJQgRKUXqVopBcMeQe7uISNKUHGKhkt0iUl6UHGIR9mPWj19ESpPenWJgNjJSu4hI0pQcYhBSHiq0XUQkaUoOIiKSQckhFqMitouIJEvJIRbdEdtFRJKl5BALj9guIpIsJQcREcmg5BADs3GR2kVEkqbkEINTT/1epHYRkaQpOcQkWBU1fFtEpJQoOcSgvX0F7m/3a3N/m/b2FQlFJCIyOCWHGHR1vRypXUQkaUoOMaipmRypXUQkaUoOMWhsbKGqamy/tqqqsTQ2tiQUkYjI4JQcYlBXt5QZM1qpqZkCGDU1U5gxo5W6uqVJhyYikpWWCY1JXd1SJQMRKRvD9s6h7fk2Gm5poOrLVTTc0kDb822JnENEpBQNyzuHtufb+PjPPo6nahvtPLCTj//s4wA88fITtG5opdd7qbZqms9o5rsf+i5tz7exYvUKXj7wMpPHT+aiaRdx17/dRffh7iPnuPqhq4+8RvqxLYtbWDpHdw0iUj7MvfyLvzU1Nfn69etzPn70/x5NV2/mQjuGHUkY6RZPXcxvXvpN1n0DjRs5jrd63uKwHz7SVmVV3Pfh+5QgRKSkmNkGd2/Ktm9YditlSwxA6Jv/6pdW55QYAN7sfrNfYgA47Ie59ufXRgtSRCRBwzI5JOFQ76GkQxARyVnsycHMLjCzLWa23cw+l2V/jZn9KLX/KTNriDtGEZHhLtbkYGbVwG3AhcAsYImZzRpw2HLgT+7+Z8C3ga/HGaOIiMR/53AWsN3d2z2oRPcAcMmAYy4B7k19/RNgsZlZjDEWxejq0UmHICKSs7iTwyRgV9r27lRb1mPcvQc4AEwYeCIzazaz9Wa2fv/+/ZGCGFM9JtLxRrTcVGVVGdt3XXJXpHOIiCSpbAek3b3V3Zvcvam2tjbS9x78m4MZCWJM9Rj8i87EYyb2a594zETuv/R+RlX3X39hYALo86mmT3Hfh+9jyvgpGMaU8VP0GKuIlJ24J8HtAU5J265PtWU7ZreZjQDGA52FDuTg3xzMHuBnBobzjoET28ImzAFKBiJS1mKdBJd6s98KLCZIAuuAj7r7xrRjrgPmuPt/M7MrgUvd/YrBzht1EpyIiAw+CS7WOwd37zGz64FHgWrg++6+0cxWAuvdfRVwN3C/mW0HXgWujDNGERFJoLaSuz8MPDyg7ea0rw8Bl8cdl4iIvKNsB6RFRKR4lBxERCSDkoOIiGSoiJLdZrYf2JnDoScAfyxyOEnS9ZW/Sr9GXV9pmeLuWSeKVURyyJWZrQ97bKsS6PrKX6Vfo66vfKhbSUREMig5iIhIhuGWHFqTDqDIdH3lr9KvUddXJobVmIOIiORmuN05iIhIDpQcREQkw7BIDkOtW12OzOz7ZvaKmb2Q1na8mT1mZttSf/+HJGPMh5mdYmaPm9kmM9toZjek2iviGs1stJn9PzN7NnV9X061T02tnb49tZb6qKHOVcrMrNrMnjazf0ptV9r17TCz583sGTNbn2qriN/Rik8OOa5bXY7uAS4Y0PY5YLW7TwNWp7bLVQ/wGXefBbwHuC7171Yp19gFnOfuc4F5wAVm9h6CNdO/nVpD/U8Ea6qXsxuAzWnblXZ9AO9393lp8xsq4ne04pMDua1bXXbc/bcEJc3Tpa+/fS/wn2MNqoDc/Q/u/m+pr18neIOZRIVcowfeSG2OTP1x4DyCtdOhjK8PwMzqgQ8Bd6W2jQq6vkFUxO/ocEgOuaxbXSnq3P0Pqa/3AXVJBlMoZtYAvBt4igq6xlSXyzPAK8BjwO+B11Jrp0P5/67eAvxP4HBqewKVdX0QJPRfm9kGM2tOtVXE72js6zlIPNzdzazsn1M2s2OAnwKfdvd/Dz58Bsr9Gt29F5hnZscB/wicmnBIBWNmfwG84u4bzGxR0vEU0fvcfY+ZnQg8ZmYvpu8s59/R4XDnkMu61ZWiw8xOBkj9/UrC8eTFzEYSJIY2d/9ZqrmirhHA3V8DHgcWAselltOF8v5dPRu42Mx2EHTlngfcSuVcHwDuvif19ysECf4sKuR3dDgkh3XAtNRTEqMIlh1dlXBMxbIKuCr19VXAzxOMJS+p/um7gc3u/q20XRVxjWZWm7pjwMzGAH9OMK7yOPCR1GFle33u/nl3r3f3BoL/c79x96VUyPUBmNk4Mzu272vgg8ALVMrv6HCYIW1mF6cRhaQAAAFzSURBVBH0f/atW92ScEh5M7MfAosISgR3AF8EHgIeBCYTlDC/wt0HDlqXBTN7H/CvwPO802f9BYJxh7K/RjM7nWCwsprgQ9qD7r7SzBoJPmkfDzwNfMzdu5KLNH+pbqXPuvtfVNL1pa7lH1ObI4B/cPcWM5tAJfyODofkICIi0QyHbiUREYlIyUFERDIoOYiISAYlBxERyaDkICIiGZQcRIrEzK43s62pqqtfSzoekSj0KKtIEZhZDbAXmAYcIKjvdZq7/ynRwERypDsHkeKoA/alJj/11Uw6kGA8IpEoOYgURxXgZvZ54Dng5+5+eIjvESkZSg4iReTuXwNqgQYz+0TS8YjkSslBpMhSXUs/BOYnHYtIrpQcRIrnFDObnvp6AbAlyWBEotBiPyLF0wM8ZGa9wHbgfyUcj0jOlBxEiucP7j476SBEjoa6lUREJIMmwYmISAbdOYiISAYlBxERyaDkICIiGZQcREQkg5KDiIhk+P9GuSspBaFCqwAAAABJRU5ErkJggg==\n",
            "text/plain": [
              "<Figure size 432x288 with 1 Axes>"
            ]
          },
          "metadata": {
            "tags": [],
            "needs_background": "light"
          }
        }
      ]
    },
    {
      "cell_type": "markdown",
      "metadata": {
        "id": "XeO8MM1ko8qB"
      },
      "source": [
        "#Unsupervised classification\n"
      ]
    },
    {
      "cell_type": "code",
      "metadata": {
        "colab": {
          "base_uri": "https://localhost:8080/"
        },
        "id": "sslbZtiHotgs",
        "outputId": "83d12e13-8789-4a93-bd04-92d8da99602c"
      },
      "source": [
        "conv_encoder = tf.keras.Sequential()\n",
        "conv_encoder.add( tf.keras.layers.Conv3D(32,(3,3,3),input_shape=(8,8,8,2), activation='relu',padding='same') ) #th\n",
        "conv_encoder.add(tf.keras.layers.MaxPooling3D((2,2,2)) )\n",
        "conv_encoder.add( tf.keras.layers.Conv3D(32,(3,3,3), activation='relu',padding='same') ) #th\n",
        "conv_encoder.add(tf.keras.layers.MaxPooling3D((2,2,2)) )\n",
        "conv_encoder.add( tf.keras.layers.Conv3D(32,(3,3,3), activation='relu',kernel_initializer=tf.keras.initializers.RandomUniform,padding='same') ) #relu\n",
        "conv_encoder.add( tf.keras.layers.Flatten() )\n",
        "# conv_encoder.add( tf.keras.layers.Dense(12,activation='relu') ) #relu\n",
        "conv_encoder.add( tf.keras.layers.Dense(1,activation='tanh',kernel_initializer=tf.keras.initializers.RandomUniform(0,0.1)) ) #linear \n",
        "\n",
        "conv_decoder = tf.keras.Sequential()\n",
        "conv_decoder.add( tf.keras.layers.Dense(8*4, activation='relu',kernel_initializer=tf.keras.initializers.RandomUniform(-0.1,0.2),input_shape=np.shape(conv_encoder(Re_Im_lattice_train))[1:]) ) #relu\n",
        "conv_decoder.add( tf.keras.layers.Reshape((2,2,2,4)) )\n",
        "conv_decoder.add(tf.keras.layers.Conv3DTranspose(12,(3,3,3),padding='same',activation='tanh'))\n",
        "conv_decoder.add(tf.keras.layers.UpSampling3D((2,2,2)))\n",
        "conv_decoder.add(tf.keras.layers.Conv3DTranspose(18,(3,3,3),activation='relu',padding='same')) #relu\n",
        "conv_decoder.add(tf.keras.layers.UpSampling3D((2,2,2)))\n",
        "conv_decoder.add(tf.keras.layers.Conv3DTranspose(24,(3,3,3),activation='relu',padding='same')) #relu\n",
        "# conv_decoder.add(tf.keras.layers.UpSampling3D((2,2,2)))\n",
        "conv_decoder.add(tf.keras.layers.Conv3DTranspose(2,(3,3,3),activation='tanh',padding='same')) #linear\n",
        "\n",
        "  \n",
        "@tf.function \n",
        "def loss_all (X_all):\n",
        "  metric = tf.keras.losses.MeanSquaredError(reduction='sum_over_batch_size')\n",
        "  encoded_all = conv_encoder(X_all) \n",
        "  return metric(conv_decoder(encoded_all),X_all) \n",
        "\n",
        "\n",
        "optimizer = tf.optimizers.Adam(0.0005)\n",
        "\n",
        "\n",
        "@tf.function\n",
        "def unsupervised_train(X_all):\n",
        "  with tf.GradientTape() as gt: \n",
        "    gt.watch ( conv_encoder.variables + conv_decoder.variables )\n",
        "    loss_ = loss_all(X_all)\n",
        "    grads = gt.gradient (loss_, conv_encoder.variables + conv_decoder.variables)\n",
        "    optimizer.apply_gradients (zip(grads, conv_encoder.variables + conv_decoder.variables))\n",
        "    return loss_\n",
        "\n",
        "conv_encoder.summary()\n",
        "conv_decoder.summary()"
      ],
      "execution_count": 17,
      "outputs": [
        {
          "output_type": "stream",
          "text": [
            "Model: \"sequential_6\"\n",
            "_________________________________________________________________\n",
            "Layer (type)                 Output Shape              Param #   \n",
            "=================================================================\n",
            "conv3d_9 (Conv3D)            (None, 8, 8, 8, 32)       1760      \n",
            "_________________________________________________________________\n",
            "max_pooling3d_6 (MaxPooling3 (None, 4, 4, 4, 32)       0         \n",
            "_________________________________________________________________\n",
            "conv3d_10 (Conv3D)           (None, 4, 4, 4, 32)       27680     \n",
            "_________________________________________________________________\n",
            "max_pooling3d_7 (MaxPooling3 (None, 2, 2, 2, 32)       0         \n",
            "_________________________________________________________________\n",
            "conv3d_11 (Conv3D)           (None, 2, 2, 2, 32)       27680     \n",
            "_________________________________________________________________\n",
            "flatten_3 (Flatten)          (None, 256)               0         \n",
            "_________________________________________________________________\n",
            "dense_7 (Dense)              (None, 1)                 257       \n",
            "=================================================================\n",
            "Total params: 57,377\n",
            "Trainable params: 57,377\n",
            "Non-trainable params: 0\n",
            "_________________________________________________________________\n",
            "Model: \"sequential_7\"\n",
            "_________________________________________________________________\n",
            "Layer (type)                 Output Shape              Param #   \n",
            "=================================================================\n",
            "dense_8 (Dense)              (None, 32)                64        \n",
            "_________________________________________________________________\n",
            "reshape_2 (Reshape)          (None, 2, 2, 2, 4)        0         \n",
            "_________________________________________________________________\n",
            "conv3d_transpose_8 (Conv3DTr (None, 2, 2, 2, 12)       1308      \n",
            "_________________________________________________________________\n",
            "up_sampling3d_4 (UpSampling3 (None, 4, 4, 4, 12)       0         \n",
            "_________________________________________________________________\n",
            "conv3d_transpose_9 (Conv3DTr (None, 4, 4, 4, 18)       5850      \n",
            "_________________________________________________________________\n",
            "up_sampling3d_5 (UpSampling3 (None, 8, 8, 8, 18)       0         \n",
            "_________________________________________________________________\n",
            "conv3d_transpose_10 (Conv3DT (None, 8, 8, 8, 24)       11688     \n",
            "_________________________________________________________________\n",
            "conv3d_transpose_11 (Conv3DT (None, 8, 8, 8, 2)        1298      \n",
            "=================================================================\n",
            "Total params: 20,208\n",
            "Trainable params: 20,208\n",
            "Non-trainable params: 0\n",
            "_________________________________________________________________\n"
          ],
          "name": "stdout"
        }
      ]
    },
    {
      "cell_type": "code",
      "metadata": {
        "colab": {
          "base_uri": "https://localhost:8080/",
          "height": 282
        },
        "id": "bRkmSsLMqTb-",
        "outputId": "8b834eeb-90ec-4325-a7df-81bf2991338a"
      },
      "source": [
        "loss_train = []\n",
        "loss_validation=[]\n",
        "\n",
        "\n",
        "X = tf.constant(Re_Im_lattice_train, dtype=tf.float32)\n",
        "\n",
        "for i in range(200):\n",
        "  loss_train.append ( unsupervised_train(X) )\n",
        "  loss_validation.append(loss_all(tf.constant(Re_Im_lattice_val, dtype=tf.float32)))\n",
        "\n",
        "plt.plot(loss_validation,'r')\n",
        "plt.plot(loss_train,'b')\n",
        "# plt.savefig('loss_C_unsup.pdf')\n",
        "print(\"train_loss=\",loss_train[-1].numpy(),' validation_loss=',loss_validation[-1].numpy())"
      ],
      "execution_count": 18,
      "outputs": [
        {
          "output_type": "stream",
          "text": [
            "train_loss= 0.03985679  validation_loss= 0.050437886\n"
          ],
          "name": "stdout"
        },
        {
          "output_type": "display_data",
          "data": {
            "image/png": "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\n",
            "text/plain": [
              "<Figure size 432x288 with 1 Axes>"
            ]
          },
          "metadata": {
            "tags": [],
            "needs_background": "light"
          }
        }
      ]
    },
    {
      "cell_type": "code",
      "metadata": {
        "colab": {
          "base_uri": "https://localhost:8080/",
          "height": 558
        },
        "id": "RvRC3rpitnLv",
        "outputId": "8ecb772e-3ea1-4c05-bda5-2867fce01b52"
      },
      "source": [
        "conv_encoded_train = conv_encoder(Re_Im_lattice_train)\n",
        "conv_encoded_val = conv_encoder(Re_Im_lattice_val)\n",
        "\n",
        "plt.plot(y_train[y_train<=5],conv_encoded_train[y_train<=5],'ro',label='Phase 1')\n",
        "plt.plot(y_train[y_train>5],conv_encoded_train[y_train>5],'bo',label='Phase 2')\n",
        "plt.xlabel('β')\n",
        "plt.ylabel(r'Encoded',size=15)\n",
        "plt.legend()\n",
        "# plt.savefig('semisupervised_T_convfluct.pdf')\n",
        "\n",
        "\n",
        "plt.subplots()\n",
        "plt.plot(y_val[y_val<=5],conv_encoded_val[y_val<=5],'go',label='Phase 1')\n",
        "plt.plot(y_val[y_val>5],conv_encoded_val[y_val>5],'yo',label='Phase 2')\n",
        "plt.xlabel('β')\n",
        "plt.ylabel(r'Encoded',size=15)\n",
        "plt.legend()\n",
        "# plt.savefig('semisupervised_V_convfluct.pdf')"
      ],
      "execution_count": 19,
      "outputs": [
        {
          "output_type": "execute_result",
          "data": {
            "text/plain": [
              "<matplotlib.legend.Legend at 0x7f6eb658aa90>"
            ]
          },
          "metadata": {
            "tags": []
          },
          "execution_count": 19
        },
        {
          "output_type": "display_data",
          "data": {
            "image/png": "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\n",
            "text/plain": [
              "<Figure size 432x288 with 1 Axes>"
            ]
          },
          "metadata": {
            "tags": [],
            "needs_background": "light"
          }
        },
        {
          "output_type": "display_data",
          "data": {
            "image/png": "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\n",
            "text/plain": [
              "<Figure size 432x288 with 1 Axes>"
            ]
          },
          "metadata": {
            "tags": [],
            "needs_background": "light"
          }
        }
      ]
    },
    {
      "cell_type": "code",
      "metadata": {
        "id": "--EnxTRet79t"
      },
      "source": [
        ""
      ],
      "execution_count": null,
      "outputs": []
    }
  ]
}
